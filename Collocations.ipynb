{
 "cells": [
  {
   "cell_type": "code",
   "execution_count": 2,
   "metadata": {
    "collapsed": false
   },
   "outputs": [],
   "source": [
    "import nltk\n",
    "from nltk.corpus import stopwords \n",
    "from nltk.collocations import BigramCollocationFinder, BigramAssocMeasures\n",
    "from nltk.corpus import brown"
   ]
  },
  {
   "cell_type": "code",
   "execution_count": 4,
   "metadata": {
    "collapsed": false
   },
   "outputs": [
    {
     "data": {
      "text/plain": [
       "['adventure',\n",
       " 'belles_lettres',\n",
       " 'editorial',\n",
       " 'fiction',\n",
       " 'government',\n",
       " 'hobbies',\n",
       " 'humor',\n",
       " 'learned',\n",
       " 'lore',\n",
       " 'mystery',\n",
       " 'news',\n",
       " 'religion',\n",
       " 'reviews',\n",
       " 'romance',\n",
       " 'science_fiction']"
      ]
     },
     "execution_count": 4,
     "metadata": {},
     "output_type": "execute_result"
    }
   ],
   "source": [
    "brown.categories()"
   ]
  },
  {
   "cell_type": "code",
   "execution_count": 14,
   "metadata": {
    "collapsed": false
   },
   "outputs": [
    {
     "name": "stdout",
     "output_type": "stream",
     "text": [
      "['per cent', 'New York', 'United States', 'White House', 'home runs', 'last week', 'San Francisco', 'last year', 'Los Angeles', 'anti-trust laws', 'Premier Khrushchev', 'Kansas City', 'President Kennedy', 'years ago', 'Air Force', 'United Nations', 'New Orleans', 'High School', 'Viet Nam', 'collective bargaining']\n"
     ]
    }
   ],
   "source": [
    "words = brown.words(categories=[\"news\"])\n",
    "\n",
    "ignored_words = stopwords.words('english')\n",
    "finder = BigramCollocationFinder.from_words(words, 2) #last param - windows size\n",
    "finder.apply_freq_filter(2) \n",
    "finder.apply_word_filter(lambda w: len(w) < 3 or w.lower() in ignored_words)\n",
    "\n",
    "# nbest = top n ngrams scored by the given function\n",
    "bigram_measures = BigramAssocMeasures()\n",
    "collocations = finder.nbest(bigram_measures.likelihood_ratio, 20) \n",
    "colloc_strings = [w1+' '+w2 for w1, w2 in collocations]\n",
    "print(colloc_strings)"
   ]
  },
  {
   "cell_type": "code",
   "execution_count": 6,
   "metadata": {
    "collapsed": false
   },
   "outputs": [
    {
     "name": "stdout",
     "output_type": "stream",
     "text": [
      "Help on method words in module nltk.corpus.reader.tagged:\n",
      "\n",
      "words(fileids=None, categories=None) method of nltk.corpus.reader.tagged.CategorizedTaggedCorpusReader instance\n",
      "    :return: the given file(s) as a list of words\n",
      "        and punctuation symbols.\n",
      "    :rtype: list(str)\n",
      "\n"
     ]
    }
   ],
   "source": [
    "help(brown.words)"
   ]
  },
  {
   "cell_type": "code",
   "execution_count": null,
   "metadata": {
    "collapsed": true
   },
   "outputs": [],
   "source": []
  }
 ],
 "metadata": {
  "anaconda-cloud": {},
  "kernelspec": {
   "display_name": "Python [conda root]",
   "language": "python",
   "name": "conda-root-py"
  },
  "language_info": {
   "codemirror_mode": {
    "name": "ipython",
    "version": 3
   },
   "file_extension": ".py",
   "mimetype": "text/x-python",
   "name": "python",
   "nbconvert_exporter": "python",
   "pygments_lexer": "ipython3",
   "version": "3.5.2"
  }
 },
 "nbformat": 4,
 "nbformat_minor": 1
}
