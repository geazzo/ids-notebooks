{
 "cells": [
  {
   "cell_type": "markdown",
   "metadata": {},
   "source": [
    "The sklearn.feature_extraction module can be used to extract features in a format supported by machine learning algorithms from datasets consisting of formats such as text and image.\n",
    "http://scikit-learn.org/stable/modules/feature_extraction.html#text-feature-extraction"
   ]
  },
  {
   "cell_type": "code",
   "execution_count": 4,
   "metadata": {
    "collapsed": false
   },
   "outputs": [
    {
     "name": "stdout",
     "output_type": "stream",
     "text": [
      "['are', 'at', 'distance', 'earth', 'friend', 'friends', 'gold', 'in', 'indeed', 'is', 'like', 'more', 'need', 'new', 'old', 'silver', 'spacious', 'with']\n"
     ]
    },
    {
     "data": {
      "text/plain": [
       "array([[ 0. ,  0. ,  0. ,  0. ,  0.7,  0. ,  0. ,  0.4,  0.4,  0.3,  0. ,\n",
       "         0. ,  0.4,  0. ,  0. ,  0. ,  0. ,  0. ],\n",
       "       [ 0.5,  0. ,  0. ,  0. ,  0. ,  0.4,  0.3,  0. ,  0. ,  0. ,  0.5,\n",
       "         0. ,  0. ,  0.3,  0.3,  0.3,  0. ,  0. ],\n",
       "       [ 0. ,  0.4,  0.4,  0.4,  0. ,  0.3,  0. ,  0. ,  0. ,  0.3,  0. ,\n",
       "         0.4,  0. ,  0. ,  0. ,  0. ,  0.4,  0.4]])"
      ]
     },
     "execution_count": 4,
     "metadata": {},
     "output_type": "execute_result"
    }
   ],
   "source": [
    "import nltk\n",
    "from sklearn.feature_extraction.text import TfidfVectorizer\n",
    "\n",
    "corpus = [\"a friend in need is a friend indeed\", \n",
    "          \"new friends are like silver, old friends are like gold\",\n",
    "          \"Earth is more spacious with friends at a distance\"]\n",
    "vectorizer = TfidfVectorizer(min_df=1)\n",
    "X = vectorizer.fit_transform(corpus)\n",
    "print (vectorizer.get_feature_names())\n",
    "import numpy\n",
    "numpy.around(X.toarray(),1)\n"
   ]
  },
  {
   "cell_type": "code",
   "execution_count": null,
   "metadata": {
    "collapsed": false
   },
   "outputs": [],
   "source": []
  },
  {
   "cell_type": "code",
   "execution_count": null,
   "metadata": {
    "collapsed": true
   },
   "outputs": [],
   "source": []
  }
 ],
 "metadata": {
  "anaconda-cloud": {},
  "kernelspec": {
   "display_name": "Python [conda root]",
   "language": "python",
   "name": "conda-root-py"
  },
  "language_info": {
   "codemirror_mode": {
    "name": "ipython",
    "version": 3
   },
   "file_extension": ".py",
   "mimetype": "text/x-python",
   "name": "python",
   "nbconvert_exporter": "python",
   "pygments_lexer": "ipython3",
   "version": "3.5.2"
  }
 },
 "nbformat": 4,
 "nbformat_minor": 1
}
